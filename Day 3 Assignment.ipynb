{
 "cells": [
  {
   "cell_type": "code",
   "execution_count": 11,
   "metadata": {},
   "outputs": [
    {
     "name": "stdout",
     "output_type": "stream",
     "text": [
      "Enter altitude in ft 6500\n",
      "Go around and try later\n"
     ]
    }
   ],
   "source": [
    "alt = input(\"Enter altitude in ft \")\n",
    "\n",
    "if int(alt) == 1000:\n",
    "    print(\"Safe to land\")\n",
    "elif int(alt) > 1000 and int(alt) < 5000:\n",
    "    print(\"Bring down to 1000\")\n",
    "elif int(alt) > 5000:\n",
    "    print(\"Go around and try later\")"
   ]
  },
  {
   "cell_type": "code",
   "execution_count": null,
   "metadata": {},
   "outputs": [],
   "source": []
  }
 ],
 "metadata": {
  "kernelspec": {
   "display_name": "Python 3",
   "language": "python",
   "name": "python3"
  },
  "language_info": {
   "codemirror_mode": {
    "name": "ipython",
    "version": 3
   },
   "file_extension": ".py",
   "mimetype": "text/x-python",
   "name": "python",
   "nbconvert_exporter": "python",
   "pygments_lexer": "ipython3",
   "version": "3.8.3"
  }
 },
 "nbformat": 4,
 "nbformat_minor": 4
}
